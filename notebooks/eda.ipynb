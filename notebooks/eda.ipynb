{
 "cells": [
  {
   "cell_type": "code",
   "execution_count": null,
   "id": "6a586d4c",
   "metadata": {},
   "outputs": [],
   "source": [
    "import pandas as pd\n",
    "import matplotlib.pyplot as plt\n",
    "import seaborn as sns"
   ]
  },
  {
   "cell_type": "code",
   "execution_count": null,
   "id": "23b2a389",
   "metadata": {},
   "outputs": [],
   "source": [
    "# Load preprocessed data\n",
    "X, y = load_and_preprocess_data('C:/Users/Akoba/Desktop/START up/fraud-detection-project/Data/train_transaction.csv', 'C:/Users/Akoba/Desktop/START up/fraud-detection-project/Data/train_identity.csv')"
   ]
  },
  {
   "cell_type": "code",
   "execution_count": null,
   "id": "f91bd9d9",
   "metadata": {},
   "outputs": [],
   "source": [
    "# Fraud distribution\n",
    "plt.figure(figsize=(6, 4))\n",
    "sns.countplot(x=y)\n",
    "plt.title('Fraud vs Non-Fraud Transactions')\n",
    "plt.savefig('../figures/fraud_distribution.png')\n",
    "plt.show()"
   ]
  },
  {
   "cell_type": "code",
   "execution_count": null,
   "id": "4276f9ad",
   "metadata": {},
   "outputs": [],
   "source": [
    "# Correlation heatmap\n",
    "plt.figure(figsize=(8, 6))\n",
    "sns.heatmap(X.corr(), annot=True, cmap='coolwarm')\n",
    "plt.title('Feature Correlations')\n",
    "plt.savefig('../figures/correlation_heatmap.png')\n",
    "plt.show()"
   ]
  },
  {
   "cell_type": "code",
   "execution_count": null,
   "id": "5ca40ceb",
   "metadata": {},
   "outputs": [],
   "source": [
    "# Transaction amount distribution\n",
    "plt.figure(figsize=(6, 4))\n",
    "sns.histplot(X['TransactionAmt'], bins=50)\n",
    "plt.title('Transaction Amount Distribution')\n",
    "plt.savefig('../figures/transaction_amount_dist.png')\n",
    "plt.show()"
   ]
  }
 ],
 "metadata": {
  "kernelspec": {
   "display_name": "venv",
   "language": "python",
   "name": "python3"
  },
  "language_info": {
   "name": "python",
   "version": "3.12.3"
  }
 },
 "nbformat": 4,
 "nbformat_minor": 5
}
