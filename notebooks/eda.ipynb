{
 "cells": [
  {
   "cell_type": "code",
   "execution_count": null,
   "id": "6a586d4c",
   "metadata": {},
   "outputs": [],
   "source": [
    "import pandas as pd\n",
    "import matplotlib.pyplot as plt\n",
    "import seaborn as sns"
   ]
  },
  {
   "cell_type": "code",
   "execution_count": null,
   "id": "23b2a389",
   "metadata": {},
   "outputs": [],
   "source": [
    "# Load preprocessed data\n",
    "X, y = load_and_preprocess_data('C:/Users/Akoba/Desktop/START up/fraud-detection-project/Data/train_transaction.csv', 'C:/Users/Akoba/Desktop/START up/fraud-detection-project/Data/train_identity.csv')"
   ]
  }
 ],
 "metadata": {
  "kernelspec": {
   "display_name": "venv",
   "language": "python",
   "name": "python3"
  },
  "language_info": {
   "name": "python",
   "version": "3.12.3"
  }
 },
 "nbformat": 4,
 "nbformat_minor": 5
}
